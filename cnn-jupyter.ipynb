{
 "cells": [
  {
   "cell_type": "code",
   "execution_count": null,
   "id": "9ac02bc7",
   "metadata": {},
   "outputs": [],
   "source": [
    "#Se importan las respectivas librerias a implementar en el desarrollo del modelo\n",
    "import sys\n",
    "import os\n",
    "from tensorflow.python.keras.preprocessing.image import ImageDataGenerator\n",
    "from tensorflow.python.keras import optimizer_v2\n",
    "from tensorflow.python.keras.models import Sequential\n",
    "from tensorflow.python.keras.layers import Dropout, Flatten, Dense, Activation \n",
    "from tensorflow.python.keras.layers import Convolution2D, MaxPooling2D\n",
    "from tensorflow.python.keras import backend as K\n",
    "\n",
    "#Evita que la red neuronal sobreentrene y encuentre un numero de entrenamiento optimo para que la red neuronal funcione de la mejor forma\n",
    "from keras.callbacks import EarlyStopping"
   ]
  },
  {
   "cell_type": "code",
   "execution_count": null,
   "id": "2c4cfc24",
   "metadata": {},
   "outputs": [],
   "source": [
    "K.clear_session()\n",
    "\n",
    "data_fit = './data/train'\n",
    "data_val = './data/val'\n",
    "data_test = './data/test'"
   ]
  },
  {
   "cell_type": "code",
   "execution_count": null,
   "id": "aad16b18",
   "metadata": {},
   "outputs": [],
   "source": []
  },
  {
   "cell_type": "code",
   "execution_count": null,
   "id": "e57585ac",
   "metadata": {},
   "outputs": [],
   "source": [
    "#Parametros\n",
    "altura, longitud = 400, 400\n",
    "batch_size = 32\n",
    "\n",
    "epochs = 20\n",
    "pasos = 200\n",
    "batch_size = 100\n",
    "pasos_val = 100\n",
    "filtros_Conv1 = 32\n",
    "filtros_Conv2 = 64\n",
    "filtros_Conv3 = 128\n",
    "filtro1_size = (3,3)\n",
    "filtro2_size = (2,2)\n",
    "pool_size = (2,2)\n",
    "clases = 2\n",
    "lr = 0.0005"
   ]
  },
  {
   "cell_type": "code",
   "execution_count": null,
   "id": "c79e39d0",
   "metadata": {},
   "outputs": [],
   "source": [
    "#Procesamiento de imagenes\n",
    "fit_datagen = ImageDataGenerator(\n",
    "    rescale=1./255,\n",
    "    shear_range=0.3,\n",
    "    zoom_range=0.3,\n",
    "    horizontal_flip=True\n",
    ")\n",
    "\n",
    "val_datagen = ImageDataGenerator(\n",
    "    rescale=1./255\n",
    ")\n",
    "\n",
    "imagen_fit = fit_datagen.flow_from_directory(\n",
    "    data_fit,\n",
    "    target_size = (altura, longitud),\n",
    "    batch_size = batch_size,\n",
    "    class_mode = 'categorical',\n",
    "    color_mode='grayscale'\n",
    ")\n",
    "\n",
    "imagen_val = val_datagen.flow_from_directory(\n",
    "    data_val,\n",
    "    target_size = (altura, longitud),\n",
    "    batch_size = batch_size,\n",
    "    class_mode = 'categorical',\n",
    "    color_mode='grayscale'\n",
    ")"
   ]
  },
  {
   "cell_type": "code",
   "execution_count": null,
   "id": "585f6bd4",
   "metadata": {},
   "outputs": [],
   "source": [
    "#Creación de la Red Neuronal Convolucional\n",
    "def define_modelo():\n",
    "  cnn = Sequential()\n",
    "\n",
    "  cnn.add(Convolution2D(filtros_Conv1, filtro1_size, padding='same', input_shape=(400, 400, 1), activation='relu'))\n",
    "  cnn.add(MaxPooling2D(pool_size=pool_size))\n",
    "\n",
    "  cnn.add(Convolution2D(filtros_Conv2, filtro2_size, padding='same', activation='relu'))\n",
    "  cnn.add(MaxPooling2D(pool_size=pool_size))\n",
    "\n",
    "  cnn.add(Convolution2D(filtros_Conv3, filtro2_size, padding='same', activation='relu'))\n",
    "  cnn.add(MaxPooling2D(pool_size=pool_size))\n",
    "\n",
    "  #Deja en una sola dimension la imagen\n",
    "  cnn.add(Flatten())\n",
    "  #Conectar las neuronas con las neuronas de la capa anterior\n",
    "  cnn.add(Dense(255, activation='relu'))\n",
    "  #Durante el entrenamiento se enciende solo el 50% de las neuronas en cada paso a la capa anterior\n",
    "  cnn.add(Dropout(0.5))\n",
    "  #Ayuda a clasificar las imagenes\n",
    "  cnn.add(Dense(clases, activation='softmax'))\n",
    "\n",
    "  opt = optimizer_v2.adam.Adam(learning_rate=lr)\n",
    "\n",
    "  cnn.compile(loss='categorical_crossentropy', optimizer=opt, metrics=['accuracy'])\n",
    "\n",
    "  return cnn"
   ]
  },
  {
   "cell_type": "code",
   "execution_count": null,
   "id": "64953f10",
   "metadata": {},
   "outputs": [],
   "source": [
    "cnn = define_modelo()"
   ]
  }
 ],
 "metadata": {
  "kernelspec": {
   "display_name": "Python 3 (ipykernel)",
   "language": "python",
   "name": "python3"
  },
  "language_info": {
   "codemirror_mode": {
    "name": "ipython",
    "version": 3
   },
   "file_extension": ".py",
   "mimetype": "text/x-python",
   "name": "python",
   "nbconvert_exporter": "python",
   "pygments_lexer": "ipython3",
   "version": "3.9.7"
  }
 },
 "nbformat": 4,
 "nbformat_minor": 5
}
